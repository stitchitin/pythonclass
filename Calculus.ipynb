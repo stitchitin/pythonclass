{
 "cells": [
  {
   "cell_type": "markdown",
   "id": "f3466d99",
   "metadata": {},
   "source": [
    "# Calculus"
   ]
  },
  {
   "cell_type": "markdown",
   "id": "8f0750e9",
   "metadata": {},
   "source": [
    "### Finding Derivatives with Python"
   ]
  },
  {
   "cell_type": "markdown",
   "id": "f3a12691",
   "metadata": {},
   "source": [
    "Use numpy.gradient to find the derivative of a simple function"
   ]
  },
  {
   "cell_type": "code",
   "execution_count": 1,
   "id": "ae186d66",
   "metadata": {},
   "outputs": [
    {
     "name": "stdout",
     "output_type": "stream",
     "text": [
      "Derivative of the function:\n",
      "[-16.7979798  -16.5959596  -16.19191919 -15.78787879 -15.38383838\n",
      " -14.97979798 -14.57575758 -14.17171717 -13.76767677 -13.36363636\n",
      " -12.95959596 -12.55555556 -12.15151515 -11.74747475 -11.34343434\n",
      " -10.93939394 -10.53535354 -10.13131313  -9.72727273  -9.32323232\n",
      "  -8.91919192  -8.51515152  -8.11111111  -7.70707071  -7.3030303\n",
      "  -6.8989899   -6.49494949  -6.09090909  -5.68686869  -5.28282828\n",
      "  -4.87878788  -4.47474747  -4.07070707  -3.66666667  -3.26262626\n",
      "  -2.85858586  -2.45454545  -2.05050505  -1.64646465  -1.24242424\n",
      "  -0.83838384  -0.43434343  -0.03030303   0.37373737   0.77777778\n",
      "   1.18181818   1.58585859   1.98989899   2.39393939   2.7979798\n",
      "   3.2020202    3.60606061   4.01010101   4.41414141   4.81818182\n",
      "   5.22222222   5.62626263   6.03030303   6.43434343   6.83838384\n",
      "   7.24242424   7.64646465   8.05050505   8.45454545   8.85858586\n",
      "   9.26262626   9.66666667  10.07070707  10.47474747  10.87878788\n",
      "  11.28282828  11.68686869  12.09090909  12.49494949  12.8989899\n",
      "  13.3030303   13.70707071  14.11111111  14.51515152  14.91919192\n",
      "  15.32323232  15.72727273  16.13131313  16.53535354  16.93939394\n",
      "  17.34343434  17.74747475  18.15151515  18.55555556  18.95959596\n",
      "  19.36363636  19.76767677  20.17171717  20.57575758  20.97979798\n",
      "  21.38383838  21.78787879  22.19191919  22.5959596   22.7979798 ]\n"
     ]
    }
   ],
   "source": [
    "import numpy as np\n",
    "\n",
    "# Define a simple function\n",
    "x = np.linspace(-10, 10, 100)\n",
    "y = x**2 + 3*x + 4\n",
    "\n",
    "# Calculate the derivative\n",
    "dy_dx = np.gradient(y, x)  # Approximate derivative using finite differences\n",
    "\n",
    "print(\"Derivative of the function:\")\n",
    "print(dy_dx)\n"
   ]
  },
  {
   "cell_type": "markdown",
   "id": "a8901ddb",
   "metadata": {},
   "source": [
    "- **linspace:** This function generates evenly spaced numbers over a specified range.\n",
    "**Arguments:**\n",
    "- start (-10): The first value in the sequence. In this case, the sequence starts at -10.\n",
    "- stop (10): The last value in the sequence. The sequence will end at 10.\n",
    "- num (100): The number of samples to generate. Here, the sequence will contain 100 evenly spaced values from -10 to 10."
   ]
  },
  {
   "cell_type": "markdown",
   "id": "74198917",
   "metadata": {},
   "source": [
    "### Integration with Python"
   ]
  },
  {
   "cell_type": "markdown",
   "id": "2e70e846",
   "metadata": {},
   "source": [
    "Symbolically integrate a simple function to find the indefinite and definite integral."
   ]
  },
  {
   "cell_type": "code",
   "execution_count": 3,
   "id": "e0d086dd",
   "metadata": {},
   "outputs": [
    {
     "name": "stdout",
     "output_type": "stream",
     "text": [
      "Defaulting to user installation because normal site-packages is not writeable\n",
      "Requirement already satisfied: sympy in /usr/lib/python3/dist-packages (1.9)\n"
     ]
    }
   ],
   "source": [
    "!pip install sympy"
   ]
  },
  {
   "cell_type": "code",
   "execution_count": 4,
   "id": "5fdcdc06",
   "metadata": {},
   "outputs": [
    {
     "name": "stdout",
     "output_type": "stream",
     "text": [
      "Indefinite Integral:\n",
      "x**3/3 + 3*x**2/2 + 4*x\n",
      "\n",
      "Definite Integral (from 0 to 10):\n",
      "1570/3\n"
     ]
    }
   ],
   "source": [
    "import sympy as sp\n",
    "\n",
    "# Define a symbolic variable\n",
    "x = sp.symbols('x')\n",
    "\n",
    "# Define a simple function\n",
    "f = x**2 + 3*x + 4\n",
    "\n",
    "# Calculate the indefinite integral\n",
    "indefinite_integral = sp.integrate(f, x)\n",
    "\n",
    "# Calculate the definite integral from 0 to 10\n",
    "definite_integral = sp.integrate(f, (x, 0, 10))\n",
    "\n",
    "print(\"Indefinite Integral:\")\n",
    "print(indefinite_integral)\n",
    "\n",
    "print(\"\\nDefinite Integral (from 0 to 10):\")\n",
    "print(definite_integral)\n"
   ]
  },
  {
   "cell_type": "markdown",
   "id": "221163b0",
   "metadata": {},
   "source": [
    "### Combining Differentiation and Integration in Data Science"
   ]
  },
  {
   "cell_type": "markdown",
   "id": "3d7c6dce",
   "metadata": {},
   "source": [
    "Solving a Differential Equation"
   ]
  },
  {
   "cell_type": "code",
   "execution_count": 2,
   "id": "790e09aa",
   "metadata": {},
   "outputs": [
    {
     "name": "stdout",
     "output_type": "stream",
     "text": [
      "Solution to the differential equation:\n",
      "[[0.00000000e+00 5.00016667e-09 6.05221894e-07 6.18335724e-05\n",
      "  6.40665219e-03 1.27170035e-01 8.88918356e-01 4.22296031e+00\n",
      "  1.72562208e+01 6.75792021e+01 2.65446444e+02 1.05815061e+03\n",
      "  4.27178597e+03 1.73804070e+04 2.20087420e+04]]\n"
     ]
    }
   ],
   "source": [
    "import numpy as np\n",
    "from scipy.integrate import solve_ivp\n",
    "\n",
    "# Define a simple differential equation: dy/dx = x + y\n",
    "def dy_dx(x, y):\n",
    "    return x + y\n",
    "\n",
    "# Solve the differential equation from x=0 to x=10\n",
    "sol = solve_ivp(dy_dx, [0, 10], [0])\n",
    "\n",
    "print(\"Solution to the differential equation:\")\n",
    "print(sol.y)\n",
    "\n"
   ]
  },
  {
   "cell_type": "markdown",
   "id": "a1853730",
   "metadata": {},
   "source": [
    "### Understanding Partial Derivatives"
   ]
  },
  {
   "cell_type": "markdown",
   "id": "952b96b4",
   "metadata": {},
   "source": [
    "Consider a function \\(f(x, y) = x^2 + y^2\\). Find the partial derivatives with respect to \\(x\\) and \\(y\\)"
   ]
  },
  {
   "cell_type": "code",
   "execution_count": 6,
   "id": "62817e75",
   "metadata": {},
   "outputs": [
    {
     "name": "stdout",
     "output_type": "stream",
     "text": [
      "Partial derivative with respect to x: 2*x\n",
      "Partial derivative with respect to y: 2*y\n"
     ]
    }
   ],
   "source": [
    "import sympy as sp\n",
    "\n",
    "x, y = sp.symbols('x y')\n",
    "f = x**2 + y**2\n",
    "\n",
    "partial_x = sp.diff(f, x)\n",
    "partial_y = sp.diff(f, y)\n",
    "\n",
    "print(\"Partial derivative with respect to x:\", partial_x)\n",
    "print(\"Partial derivative with respect to y:\", partial_y)\n"
   ]
  },
  {
   "cell_type": "markdown",
   "id": "510fb36c",
   "metadata": {},
   "source": [
    "### Gradient and Its Geometric Interpretation"
   ]
  },
  {
   "cell_type": "code",
   "execution_count": 7,
   "id": "42a17bb7",
   "metadata": {},
   "outputs": [
    {
     "name": "stdout",
     "output_type": "stream",
     "text": [
      "Gradient of the function:\n",
      "[2*x + 3*y, 3*x + 2*y]\n"
     ]
    }
   ],
   "source": [
    "# Gradient of a multivariable function\n",
    "f = x**2 + 3*x*y + y**2\n",
    "gradient = [sp.diff(f, x), sp.diff(f, y)]\n",
    "\n",
    "print(\"Gradient of the function:\")\n",
    "print(gradient)\n"
   ]
  },
  {
   "cell_type": "markdown",
   "id": "50cad220",
   "metadata": {},
   "source": [
    "### Applications in Data Scienc"
   ]
  },
  {
   "cell_type": "markdown",
   "id": "2bc2b0b4",
   "metadata": {},
   "source": [
    "Gradient Descent"
   ]
  },
  {
   "cell_type": "code",
   "execution_count": 8,
   "id": "e57f70df",
   "metadata": {},
   "outputs": [
    {
     "name": "stdout",
     "output_type": "stream",
     "text": [
      "Minimum found at x = -1.8758096384000003\n"
     ]
    }
   ],
   "source": [
    "import numpy as np\n",
    "\n",
    "# A simple loss function\n",
    "def loss(x):\n",
    "    return x**2 + 3*x + 4\n",
    "\n",
    "# Gradient of the loss function\n",
    "def grad_loss(x):\n",
    "    return 2 * x + 3\n",
    "\n",
    "# Gradient descent to find minimum\n",
    "x = -5  # Starting point\n",
    "learning_rate = 0.1\n",
    "num_iterations = 10\n",
    "\n",
    "for _ in range(num_iterations):\n",
    "    x = x - learning_rate * grad_loss(x)  # Gradient descent update\n",
    "\n",
    "print(\"Minimum found at x =\", x)\n"
   ]
  },
  {
   "cell_type": "markdown",
   "id": "b76bf6c5",
   "metadata": {},
   "source": [
    "### Calculating Gradients with Libraries"
   ]
  },
  {
   "cell_type": "code",
   "execution_count": 11,
   "id": "c837d048",
   "metadata": {},
   "outputs": [
    {
     "name": "stdout",
     "output_type": "stream",
     "text": [
      "Defaulting to user installation because normal site-packages is not writeable\n",
      "Requirement already satisfied: numpy in /home/amos/.local/lib/python3.10/site-packages (1.26.4)\n"
     ]
    }
   ],
   "source": [
    "!pip install numpy\n"
   ]
  },
  {
   "cell_type": "code",
   "execution_count": 12,
   "id": "503ddc00",
   "metadata": {},
   "outputs": [
    {
     "name": "stdout",
     "output_type": "stream",
     "text": [
      "Defaulting to user installation because normal site-packages is not writeable\n",
      "Requirement already satisfied: numpy in /home/amos/.local/lib/python3.10/site-packages (1.26.4)\n",
      "Note: you may need to restart the kernel to use updated packages.\n"
     ]
    }
   ],
   "source": [
    "pip install numpy --upgrade"
   ]
  },
  {
   "cell_type": "markdown",
   "id": "cdfcbbba",
   "metadata": {},
   "source": [
    "## Optimization techniques (e.g., gradient descent)"
   ]
  },
  {
   "cell_type": "markdown",
   "id": "b66da4c4",
   "metadata": {},
   "source": [
    "### Gradient Descent Example"
   ]
  },
  {
   "cell_type": "code",
   "execution_count": 14,
   "id": "1d56596c",
   "metadata": {},
   "outputs": [
    {
     "data": {
      "image/png": "[encoded data removed]",
      "text/plain": [
       "<Figure size 432x288 with 1 Axes>"
      ]
     },
     "metadata": {
      "needs_background": "light"
     },
     "output_type": "display_data"
    }
   ],
   "source": [
    "import numpy as np\n",
    "import matplotlib.pyplot as plt\n",
    "\n",
    "# Function to minimize\n",
    "def func(x):\n",
    "    return x**2 + 3*x + 4\n",
    "\n",
    "# Gradient of the function\n",
    "def grad_func(x):\n",
    "    return 2*x + 3\n",
    "\n",
    "# Gradient descent parameters\n",
    "x = -10  # Starting point\n",
    "learning_rate = 0.1\n",
    "iterations = 20\n",
    "\n",
    "# Perform gradient descent\n",
    "x_values = []\n",
    "for _ in range(iterations):\n",
    "    x_values.append(x)\n",
    "    x = x - learning_rate * grad_func(x)  # Update with the negative gradient\n",
    "\n",
    "# Plot the function and the descent path\n",
    "x_plot = np.linspace(-10, 5, 100)\n",
    "y_plot = func(x_plot)\n",
    "\n",
    "plt.plot(x_plot, y_plot, label='Function')\n",
    "plt.plot(x_values, func(np.array(x_values)), 'o-', label='Descent Path')\n",
    "plt.xlabel('x')\n",
    "plt.ylabel('f(x)')\n",
    "plt.title('Gradient Descent')\n",
    "plt.legend()\n",
    "plt.show()\n"
   ]
  },
  {
   "cell_type": "markdown",
   "id": "7767078f",
   "metadata": {},
   "source": [
    "Description\n",
    "The code snippet demonstrates the use of gradient descent to find the minimum of a simple function and shows the descent path visually."
   ]
  },
  {
   "cell_type": "code",
   "execution_count": null,
   "id": "be9c7ef1",
   "metadata": {},
   "outputs": [],
   "source": []
  }
 ],
 "metadata": {
  "kernelspec": {
   "display_name": "Python 3 (ipykernel)",
   "language": "python",
   "name": "python3"
  },
  "language_info": {
   "codemirror_mode": {
    "name": "ipython",
    "version": 3
   },
   "file_extension": ".py",
   "mimetype": "text/x-python",
   "name": "python",
   "nbconvert_exporter": "python",
   "pygments_lexer": "ipython3",
   "version": "3.10.12"
  }
 },
 "nbformat": 4,
 "nbformat_minor": 5
}
