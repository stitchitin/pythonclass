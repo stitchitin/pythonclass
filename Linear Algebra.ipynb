{
 "cells": [
  {
   "cell_type": "markdown",
   "id": "5dfef150",
   "metadata": {},
   "source": [
    "## Vectors and vector operations"
   ]
  },
  {
   "cell_type": "markdown",
   "id": "a86a11bc",
   "metadata": {},
   "source": [
    "- Vector Addition: Adding two vectors element-wise.\n",
    "- Vector Subtraction: Subtracting one vector from another element-wise.\n",
    "- Scalar Multiplication: Multiplying a vector by a scalar.\n",
    "- Dot Product: Computing the dot product of two vectors.\n",
    "- Cross Product: Computing the cross product of two vectors.\n",
    "- Magnitude: Calculating the magnitude (or length) of a vector."
   ]
  },
  {
   "cell_type": "code",
   "execution_count": 2,
   "id": "5935a87f",
   "metadata": {},
   "outputs": [],
   "source": [
    "# import numpy for the calulation\n",
    "import numpy as np"
   ]
  },
  {
   "cell_type": "code",
   "execution_count": 3,
   "id": "60f7c7df",
   "metadata": {},
   "outputs": [],
   "source": [
    "# Define vectors\n",
    "vector1 = np.array([1, 2, 3])\n",
    "vector2 = np.array([4, 5, 6])\n",
    "\n",
    "\n"
   ]
  },
  {
   "cell_type": "code",
   "execution_count": 4,
   "id": "5d3b4ddc",
   "metadata": {},
   "outputs": [
    {
     "name": "stdout",
     "output_type": "stream",
     "text": [
      "Vector Sum: [5 7 9]\n"
     ]
    }
   ],
   "source": [
    "# Addition of vectors\n",
    "vector_sum = vector1 + vector2\n",
    "print(\"Vector Sum:\", vector_sum)"
   ]
  },
  {
   "cell_type": "code",
   "execution_count": 5,
   "id": "78e9515d",
   "metadata": {},
   "outputs": [
    {
     "name": "stdout",
     "output_type": "stream",
     "text": [
      "Vector Difference: [-3 -3 -3]\n"
     ]
    }
   ],
   "source": [
    "# Subtraction of vectors\n",
    "vector_diff = vector1 - vector2\n",
    "print(\"Vector Difference:\", vector_diff)"
   ]
  },
  {
   "cell_type": "code",
   "execution_count": 6,
   "id": "2cd1b557",
   "metadata": {},
   "outputs": [
    {
     "name": "stdout",
     "output_type": "stream",
     "text": [
      "Scalar Multiplication: [2 4 6]\n"
     ]
    }
   ],
   "source": [
    "# Scalar multiplication\n",
    "scalar = 2\n",
    "scaled_vector = scalar * vector1\n",
    "print(\"Scalar Multiplication:\", scaled_vector)\n"
   ]
  },
  {
   "cell_type": "code",
   "execution_count": 7,
   "id": "e72a3bea",
   "metadata": {},
   "outputs": [
    {
     "name": "stdout",
     "output_type": "stream",
     "text": [
      "Dot Product: 32\n"
     ]
    }
   ],
   "source": [
    "# Dot product of vectors\n",
    "dot_product = np.dot(vector1, vector2)\n",
    "print(\"Dot Product:\", dot_product)\n"
   ]
  },
  {
   "cell_type": "code",
   "execution_count": 8,
   "id": "76edbcac",
   "metadata": {},
   "outputs": [
    {
     "name": "stdout",
     "output_type": "stream",
     "text": [
      "Cross Product: [-3  6 -3]\n"
     ]
    }
   ],
   "source": [
    "# Cross product of vectors\n",
    "cross_product = np.cross(vector1, vector2)\n",
    "print(\"Cross Product:\", cross_product)"
   ]
  },
  {
   "cell_type": "code",
   "execution_count": 9,
   "id": "aac5cbb2",
   "metadata": {},
   "outputs": [
    {
     "name": "stdout",
     "output_type": "stream",
     "text": [
      "Magnitude of Vector 1: 3.7416573867739413\n"
     ]
    }
   ],
   "source": [
    "# Magnitude of a vector\n",
    "magnitude_vector1 = np.linalg.norm(vector1)\n",
    "print(\"Magnitude of Vector 1:\", magnitude_vector1)"
   ]
  },
  {
   "cell_type": "markdown",
   "id": "956a38e7",
   "metadata": {},
   "source": [
    "## Matrices and Matrix Operations in Data Science\n"
   ]
  },
  {
   "cell_type": "code",
   "execution_count": 3,
   "id": "1ab354b1",
   "metadata": {},
   "outputs": [],
   "source": [
    "\n",
    "A = np.array([[1, 2], [3, 4]])\n",
    "B = np.array([[5, 6], [7, 8]])"
   ]
  },
  {
   "cell_type": "code",
   "execution_count": 4,
   "id": "60424dfb",
   "metadata": {},
   "outputs": [
    {
     "name": "stdout",
     "output_type": "stream",
     "text": [
      "Matrix Addition:\n",
      "[[ 6  8]\n",
      " [10 12]]\n"
     ]
    }
   ],
   "source": [
    "# Example 1: Matrix Addition\n",
    "C = A + B\n",
    "print(\"Matrix Addition:\")\n",
    "print(C)\n"
   ]
  },
  {
   "cell_type": "code",
   "execution_count": 5,
   "id": "c25a18d1",
   "metadata": {},
   "outputs": [
    {
     "name": "stdout",
     "output_type": "stream",
     "text": [
      "\n",
      "Scalar Multiplication:\n",
      "[[2 4]\n",
      " [6 8]]\n"
     ]
    }
   ],
   "source": [
    "# Example 2: Scalar Multiplication\n",
    "scalar = 2\n",
    "D = scalar * A\n",
    "print(\"\\nScalar Multiplication:\")\n",
    "print(D)\n"
   ]
  },
  {
   "cell_type": "code",
   "execution_count": 6,
   "id": "362c3922",
   "metadata": {},
   "outputs": [
    {
     "name": "stdout",
     "output_type": "stream",
     "text": [
      "\n",
      "Matrix Multiplication:\n",
      "[[ 58  64]\n",
      " [139 154]]\n"
     ]
    }
   ],
   "source": [
    "\n",
    "# Example 3: Matrix Multiplication\n",
    "E = np.array([[1, 2, 3], [4, 5, 6]])\n",
    "F = np.array([[7, 8], [9, 10], [11, 12]])\n",
    "G = np.dot(E, F)\n",
    "print(\"\\nMatrix Multiplication:\")\n",
    "print(G)"
   ]
  },
  {
   "cell_type": "markdown",
   "id": "c1af76fd",
   "metadata": {},
   "source": [
    "# Matrix decompositions (e.g., LU, QR, SVD)"
   ]
  },
  {
   "cell_type": "markdown",
   "id": "b932558c",
   "metadata": {},
   "source": [
    "### LU Decomposition Example with NumPy\n",
    "LU decomposition factors a matrix into a lower triangular matrix and an upper triangular matrix. To perform LU decomposition, we'll use scipy.linalg.lu"
   ]
  },
  {
   "cell_type": "code",
   "execution_count": 1,
   "id": "3974a48b",
   "metadata": {},
   "outputs": [
    {
     "name": "stdout",
     "output_type": "stream",
     "text": [
      "Original Matrix A:\n",
      "[[4 3]\n",
      " [6 3]]\n",
      "\n",
      "Permutation Matrix P:\n",
      "[[0. 1.]\n",
      " [1. 0.]]\n",
      "\n",
      "Lower Triangular Matrix L:\n",
      "[[1.         0.        ]\n",
      " [0.66666667 1.        ]]\n",
      "\n",
      "Upper Triangular Matrix U:\n",
      "[[6. 3.]\n",
      " [0. 1.]]\n",
      "\n",
      "Reconstructed Matrix A:\n",
      "[[4. 3.]\n",
      " [6. 3.]]\n"
     ]
    }
   ],
   "source": [
    "import numpy as np\n",
    "from scipy.linalg import lu\n",
    "\n",
    "# Define a square matrix\n",
    "A = np.array([[4, 3],\n",
    "              [6, 3]])\n",
    "\n",
    "# Perform LU decomposition\n",
    "P, L, U = lu(A)\n",
    "\n",
    "# Display the results\n",
    "print(\"Original Matrix A:\")\n",
    "print(A)\n",
    "print(\"\\nPermutation Matrix P:\")\n",
    "print(P)\n",
    "print(\"\\nLower Triangular Matrix L:\")\n",
    "print(L)\n",
    "print(\"\\nUpper Triangular Matrix U:\")\n",
    "print(U)\n",
    "\n",
    "# Verify that A = P @ L @ U\n",
    "A_reconstructed = P @ L @ U\n",
    "print(\"\\nReconstructed Matrix A:\")\n",
    "print(A_reconstructed)\n"
   ]
  },
  {
   "cell_type": "markdown",
   "id": "5216ad6e",
   "metadata": {},
   "source": [
    "In this example, a 2x2 matrix is decomposed into a permutation matrix (P), a lower triangular matrix (L), and an upper triangular matrix (U). The original matrix is reconstructed to check accuracy.\n"
   ]
  },
  {
   "cell_type": "markdown",
   "id": "601f8a2d",
   "metadata": {},
   "source": [
    "### QR Decomposition Example with NumPy\n",
    "QR decomposition splits a matrix into an orthogonal matrix and an upper triangular matrix. Use numpy.linalg.qr to perform QR decomposition."
   ]
  },
  {
   "cell_type": "code",
   "execution_count": 2,
   "id": "ebe14fb1",
   "metadata": {},
   "outputs": [
    {
     "name": "stdout",
     "output_type": "stream",
     "text": [
      "Original Matrix B:\n",
      "[[1 2]\n",
      " [3 4]\n",
      " [5 6]]\n",
      "\n",
      "Orthogonal Matrix Q:\n",
      "[[-0.16903085  0.89708523]\n",
      " [-0.50709255  0.27602622]\n",
      " [-0.84515425 -0.34503278]]\n",
      "\n",
      "Upper Triangular Matrix R:\n",
      "[[-5.91607978 -7.43735744]\n",
      " [ 0.          0.82807867]]\n",
      "\n",
      "Reconstructed Matrix B:\n",
      "[[1. 2.]\n",
      " [3. 4.]\n",
      " [5. 6.]]\n"
     ]
    }
   ],
   "source": [
    "import numpy as np\n",
    "\n",
    "# Define a rectangular matrix\n",
    "B = np.array([[1, 2],\n",
    "              [3, 4],\n",
    "              [5, 6]])\n",
    "\n",
    "# Perform QR decomposition\n",
    "Q, R = np.linalg.qr(B)\n",
    "\n",
    "# Display the results\n",
    "print(\"Original Matrix B:\")\n",
    "print(B)\n",
    "print(\"\\nOrthogonal Matrix Q:\")\n",
    "print(Q)\n",
    "print(\"\\nUpper Triangular Matrix R:\")\n",
    "print(R)\n",
    "\n",
    "# Verify that B = Q @ R\n",
    "B_reconstructed = Q @ R\n",
    "print(\"\\nReconstructed Matrix B:\")\n",
    "print(B_reconstructed)\n"
   ]
  },
  {
   "cell_type": "markdown",
   "id": "756a520f",
   "metadata": {},
   "source": [
    "Here, a 3x2 matrix is decomposed into an orthogonal matrix (Q) and an upper triangular matrix (R). The original matrix is reconstructed to confirm the decomposition."
   ]
  },
  {
   "cell_type": "markdown",
   "id": "8716615d",
   "metadata": {},
   "source": [
    "### Singular Value Decomposition (SVD) Example with NumPy\n",
    "SVD decomposes a matrix into three components: left singular vectors, singular values, and right singular vectors. Use numpy.linalg.svd to perform SVD."
   ]
  },
  {
   "cell_type": "code",
   "execution_count": 3,
   "id": "4976cf3e",
   "metadata": {},
   "outputs": [
    {
     "name": "stdout",
     "output_type": "stream",
     "text": [
      "Original Matrix C:\n",
      "[[1 2 3]\n",
      " [4 5 6]]\n",
      "\n",
      "Left Singular Vectors U:\n",
      "[[-0.3863177  -0.92236578]\n",
      " [-0.92236578  0.3863177 ]]\n",
      "\n",
      "Singular Values:\n",
      "[9.508032   0.77286964]\n",
      "\n",
      "Right Singular Vectors V^T:\n",
      "[[-0.42866713 -0.56630692 -0.7039467 ]\n",
      " [ 0.80596391  0.11238241 -0.58119908]\n",
      " [ 0.40824829 -0.81649658  0.40824829]]\n",
      "\n",
      "Reconstructed Matrix C:\n",
      "[[1. 2. 3.]\n",
      " [4. 5. 6.]]\n"
     ]
    }
   ],
   "source": [
    "import numpy as np\n",
    "\n",
    "# Define a 2x3 matrix\n",
    "C = np.array([[1, 2, 3],\n",
    "              [4, 5, 6]])\n",
    "\n",
    "# Perform SVD\n",
    "U, S, VT = np.linalg.svd(C)\n",
    "\n",
    "# Display the results\n",
    "print(\"Original Matrix C:\")\n",
    "print(C)\n",
    "print(\"\\nLeft Singular Vectors U:\")\n",
    "print(U)\n",
    "print(\"\\nSingular Values:\")\n",
    "print(S)\n",
    "print(\"\\nRight Singular Vectors V^T:\")\n",
    "print(VT)\n",
    "\n",
    "# Reconstructing Σ (Sigma) to be a diagonal matrix\n",
    "Sigma = np.zeros(C.shape)\n",
    "np.fill_diagonal(Sigma, S)\n",
    "\n",
    "# Verify that C = U @ Sigma @ VT\n",
    "C_reconstructed = U @ Sigma @ VT\n",
    "print(\"\\nReconstructed Matrix C:\")\n",
    "print(C_reconstructed)\n"
   ]
  },
  {
   "cell_type": "markdown",
   "id": "5827834a",
   "metadata": {},
   "source": [
    "This example decomposes a 2x3 matrix into left singular vectors (U), singular values (S), and right singular vectors (VT). The original matrix is reconstructed to validate the SVD."
   ]
  },
  {
   "cell_type": "markdown",
   "id": "778ecb4b",
   "metadata": {},
   "source": [
    "## Eigenvalues and eigenvectors"
   ]
  },
  {
   "cell_type": "markdown",
   "id": "890ad4a8",
   "metadata": {},
   "source": [
    "- Finding eigenvalues and eigenvectors for a matrix.\n",
    "- Applying eigenvalues and eigenvectors to PCA for dimensionality reduction.\n",
    "- Visualizing the results to illustrate the impact of eigenvalues/eigenvectors in a real-world data science context."
   ]
  },
  {
   "cell_type": "markdown",
   "id": "1abd83f4",
   "metadata": {},
   "source": [
    "### Finding Eigenvalues and Eigenvectors\n",
    "To find eigenvalues and eigenvectors in NumPy, use the numpy.linalg.eig function. Here's an example:"
   ]
  },
  {
   "cell_type": "code",
   "execution_count": 1,
   "id": "fbf99f42",
   "metadata": {},
   "outputs": [
    {
     "name": "stdout",
     "output_type": "stream",
     "text": [
      "Original Matrix A:\n",
      "[[2 1]\n",
      " [1 2]]\n",
      "\n",
      "Eigenvalues:\n",
      "[3. 1.]\n",
      "\n",
      "Eigenvectors:\n",
      "[[ 0.70710678 -0.70710678]\n",
      " [ 0.70710678  0.70710678]]\n",
      "\n",
      "Testing eigenvalue problem for eigenvector 1:\n",
      "A * eigenvector:\n",
      "[2.12132034 2.12132034]\n",
      "Eigenvalue * eigenvector:\n",
      "[2.12132034 2.12132034]\n",
      "\n",
      "Testing eigenvalue problem for eigenvector 2:\n",
      "A * eigenvector:\n",
      "[-0.70710678  0.70710678]\n",
      "Eigenvalue * eigenvector:\n",
      "[-0.70710678  0.70710678]\n"
     ]
    }
   ],
   "source": [
    "import numpy as np\n",
    "\n",
    "# Define a square matrix\n",
    "A = np.array([[2, 1], \n",
    "              [1, 2]])\n",
    "\n",
    "# Calculate eigenvalues and eigenvectors\n",
    "eigenvalues, eigenvectors = np.linalg.eig(A)\n",
    "\n",
    "print(\"Original Matrix A:\")\n",
    "print(A)\n",
    "\n",
    "print(\"\\nEigenvalues:\")\n",
    "print(eigenvalues)\n",
    "\n",
    "print(\"\\nEigenvectors:\")\n",
    "print(eigenvectors)\n",
    "\n",
    "# Test the eigenvalue problem: A * v = λ * v\n",
    "# where v is an eigenvector, and λ is its corresponding eigenvalue\n",
    "for i in range(len(eigenvalues)):\n",
    "    print(f\"\\nTesting eigenvalue problem for eigenvector {i + 1}:\")\n",
    "    lhs = A @ eigenvectors[:, i]  # Left-hand side of the eigenvalue problem\n",
    "    rhs = eigenvalues[i] * eigenvectors[:, i]  # Right-hand side\n",
    "    print(\"A * eigenvector:\")\n",
    "    print(lhs)\n",
    "    print(\"Eigenvalue * eigenvector:\")\n",
    "    print(rhs)\n"
   ]
  },
  {
   "cell_type": "markdown",
   "id": "29cbc0e3",
   "metadata": {},
   "source": [
    "This code snippet finds the eigenvalues and eigenvectors of a simple 2x2 matrix and verifies the eigenvalue problem by demonstrating that \n",
    "A\n",
    "×\n",
    "eigenvector\n",
    "=\n",
    "eigenvalue\n",
    "×\n",
    "eigenvector\n",
    "A×eigenvector=eigenvalue×eigenvector."
   ]
  },
  {
   "cell_type": "markdown",
   "id": "868be2d0",
   "metadata": {},
   "source": [
    "### Applying Eigenvalues and Eigenvectors to PCA"
   ]
  },
  {
   "cell_type": "markdown",
   "id": "75474f17",
   "metadata": {},
   "source": [
    "Principal Component Analysis (PCA) is an application where eigenvalues and eigenvectors are used to reduce dimensionality. Here’s an example using a small dataset to demonstrate PCA:"
   ]
  },
  {
   "cell_type": "code",
   "execution_count": 2,
   "id": "5fee4816",
   "metadata": {},
   "outputs": [
    {
     "name": "stdout",
     "output_type": "stream",
     "text": [
      "Defaulting to user installation because normal site-packages is not writeable\n",
      "Requirement already satisfied: matplotlib in /usr/lib/python3/dist-packages (3.5.1)\n"
     ]
    }
   ],
   "source": [
    "# Install matplotlib for plotting\n",
    "!pip install matplotlib\n"
   ]
  },
  {
   "cell_type": "code",
   "execution_count": 3,
   "id": "81fb627d",
   "metadata": {},
   "outputs": [
    {
     "name": "stdout",
     "output_type": "stream",
     "text": [
      "Covariance Matrix:\n",
      "[[0.61655556 0.61544444]\n",
      " [0.61544444 0.71655556]]\n",
      "\n",
      "Eigenvalues:\n",
      "[0.0490834  1.28402771]\n",
      "\n",
      "Eigenvectors:\n",
      "[[-0.73517866 -0.6778734 ]\n",
      " [ 0.6778734  -0.73517866]]\n"
     ]
    },
    {
     "data": {
      "image/png": "[encoded data removed]",
      "text/plain": [
       "<Figure size 432x288 with 1 Axes>"
      ]
     },
     "metadata": {
      "needs_background": "light"
     },
     "output_type": "display_data"
    }
   ],
   "source": [
    "import numpy as np\n",
    "import matplotlib.pyplot as plt\n",
    "\n",
    "# Create a 2D dataset with some correlation\n",
    "data = np.array([[2.5, 2.4],\n",
    "                 [0.5, 0.7],\n",
    "                 [2.2, 2.9],\n",
    "                 [1.9, 2.2],\n",
    "                 [3.1, 3.0],\n",
    "                 [2.3, 2.7],\n",
    "                 [2, 1.6],\n",
    "                 [1, 1.1],\n",
    "                 [1.5, 1.6],\n",
    "                 [1.1, 0.9]])\n",
    "\n",
    "# Center the data\n",
    "data_mean = np.mean(data, axis=0)\n",
    "centered_data = data - data_mean\n",
    "\n",
    "# Calculate the covariance matrix\n",
    "cov_matrix = np.cov(centered_data, rowvar=False)\n",
    "\n",
    "# Find eigenvalues and eigenvectors\n",
    "eigenvalues, eigenvectors = np.linalg.eig(cov_matrix)\n",
    "\n",
    "print(\"Covariance Matrix:\")\n",
    "print(cov_matrix)\n",
    "\n",
    "print(\"\\nEigenvalues:\")\n",
    "print(eigenvalues)\n",
    "\n",
    "print(\"\\nEigenvectors:\")\n",
    "print(eigenvectors)\n",
    "\n",
    "# Project the data onto the first principal component\n",
    "principal_component = eigenvectors[:, 0]\n",
    "projected_data = centered_data @ principal_component\n",
    "\n",
    "# Plot the original data and the projected data\n",
    "plt.scatter(centered_data[:, 0], centered_data[:, 1], label='Original Data')\n",
    "plt.scatter(projected_data * eigenvectors[0, 0], projected_data * eigenvectors[1, 0], label='Projected Data', color='red')\n",
    "plt.title(\"PCA: Data Projection onto First Principal Component\")\n",
    "plt.xlabel(\"Feature 1\")\n",
    "plt.ylabel(\"Feature 2\")\n",
    "plt.axline((0, 0), slope=eigenvectors[1, 0] / eigenvectors[0, 0], color='red', linestyle='--', label='Principal Component')\n",
    "plt.legend()\n",
    "plt.show()\n"
   ]
  },
  {
   "cell_type": "markdown",
   "id": "73359a6f",
   "metadata": {},
   "source": [
    "This code snippet applies eigenvalues and eigenvectors to PCA. It creates a 2D dataset, centers it, calculates the covariance matrix, finds eigenvalues and eigenvectors, and projects the data onto the first principal component. The plot shows the original data and the projection onto the first principal component, illustrating the concept of dimensionality reduction in PCA."
   ]
  },
  {
   "cell_type": "code",
   "execution_count": null,
   "id": "94c31923",
   "metadata": {},
   "outputs": [],
   "source": []
  }
 ],
 "metadata": {
  "kernelspec": {
   "display_name": "Python 3 (ipykernel)",
   "language": "python",
   "name": "python3"
  },
  "language_info": {
   "codemirror_mode": {
    "name": "ipython",
    "version": 3
   },
   "file_extension": ".py",
   "mimetype": "text/x-python",
   "name": "python",
   "nbconvert_exporter": "python",
   "pygments_lexer": "ipython3",
   "version": "3.10.12"
  }
 },
 "nbformat": 4,
 "nbformat_minor": 5
}
